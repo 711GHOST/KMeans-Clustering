{
 "cells": [
  {
   "cell_type": "code",
   "execution_count": 1,
   "id": "d9998aa4",
   "metadata": {
    "ExecuteTime": {
     "end_time": "2022-05-06T06:09:21.345479Z",
     "start_time": "2022-05-06T06:09:18.706797Z"
    }
   },
   "outputs": [],
   "source": [
    "import numpy as np\n",
    "import pandas as pd"
   ]
  },
  {
   "cell_type": "code",
   "execution_count": 2,
   "id": "631a6dba",
   "metadata": {
    "ExecuteTime": {
     "end_time": "2022-05-06T06:09:21.470430Z",
     "start_time": "2022-05-06T06:09:21.350472Z"
    }
   },
   "outputs": [
    {
     "data": {
      "text/html": [
       "<div>\n",
       "<style scoped>\n",
       "    .dataframe tbody tr th:only-of-type {\n",
       "        vertical-align: middle;\n",
       "    }\n",
       "\n",
       "    .dataframe tbody tr th {\n",
       "        vertical-align: top;\n",
       "    }\n",
       "\n",
       "    .dataframe thead th {\n",
       "        text-align: right;\n",
       "    }\n",
       "</style>\n",
       "<table border=\"1\" class=\"dataframe\">\n",
       "  <thead>\n",
       "    <tr style=\"text-align: right;\">\n",
       "      <th></th>\n",
       "      <th>Channel</th>\n",
       "      <th>Region</th>\n",
       "      <th>Fresh</th>\n",
       "      <th>Milk</th>\n",
       "      <th>Grocery</th>\n",
       "      <th>Frozen</th>\n",
       "      <th>Detergents_Paper</th>\n",
       "      <th>Delicassen</th>\n",
       "    </tr>\n",
       "  </thead>\n",
       "  <tbody>\n",
       "    <tr>\n",
       "      <th>0</th>\n",
       "      <td>2</td>\n",
       "      <td>3</td>\n",
       "      <td>12669</td>\n",
       "      <td>9656</td>\n",
       "      <td>7561</td>\n",
       "      <td>214</td>\n",
       "      <td>2674</td>\n",
       "      <td>1338</td>\n",
       "    </tr>\n",
       "    <tr>\n",
       "      <th>1</th>\n",
       "      <td>2</td>\n",
       "      <td>3</td>\n",
       "      <td>7057</td>\n",
       "      <td>9810</td>\n",
       "      <td>9568</td>\n",
       "      <td>1762</td>\n",
       "      <td>3293</td>\n",
       "      <td>1776</td>\n",
       "    </tr>\n",
       "    <tr>\n",
       "      <th>2</th>\n",
       "      <td>2</td>\n",
       "      <td>3</td>\n",
       "      <td>6353</td>\n",
       "      <td>8808</td>\n",
       "      <td>7684</td>\n",
       "      <td>2405</td>\n",
       "      <td>3516</td>\n",
       "      <td>7844</td>\n",
       "    </tr>\n",
       "    <tr>\n",
       "      <th>3</th>\n",
       "      <td>1</td>\n",
       "      <td>3</td>\n",
       "      <td>13265</td>\n",
       "      <td>1196</td>\n",
       "      <td>4221</td>\n",
       "      <td>6404</td>\n",
       "      <td>507</td>\n",
       "      <td>1788</td>\n",
       "    </tr>\n",
       "    <tr>\n",
       "      <th>4</th>\n",
       "      <td>2</td>\n",
       "      <td>3</td>\n",
       "      <td>22615</td>\n",
       "      <td>5410</td>\n",
       "      <td>7198</td>\n",
       "      <td>3915</td>\n",
       "      <td>1777</td>\n",
       "      <td>5185</td>\n",
       "    </tr>\n",
       "  </tbody>\n",
       "</table>\n",
       "</div>"
      ],
      "text/plain": [
       "   Channel  Region  Fresh  Milk  Grocery  Frozen  Detergents_Paper  Delicassen\n",
       "0        2       3  12669  9656     7561     214              2674        1338\n",
       "1        2       3   7057  9810     9568    1762              3293        1776\n",
       "2        2       3   6353  8808     7684    2405              3516        7844\n",
       "3        1       3  13265  1196     4221    6404               507        1788\n",
       "4        2       3  22615  5410     7198    3915              1777        5185"
      ]
     },
     "execution_count": 2,
     "metadata": {},
     "output_type": "execute_result"
    }
   ],
   "source": [
    "df = pd.read_csv(\"Wholesale customers data.txt\", sep=\",\")\n",
    "df.head()"
   ]
  },
  {
   "cell_type": "code",
   "execution_count": 3,
   "id": "16e3c825",
   "metadata": {
    "ExecuteTime": {
     "end_time": "2022-05-06T06:09:22.547798Z",
     "start_time": "2022-05-06T06:09:21.475429Z"
    }
   },
   "outputs": [],
   "source": [
    "import matplotlib.pyplot as plt\n",
    "%matplotlib inline\n",
    "plt.style.use(\"ggplot\")"
   ]
  },
  {
   "cell_type": "code",
   "execution_count": 4,
   "id": "51ad33a4",
   "metadata": {
    "ExecuteTime": {
     "end_time": "2022-05-06T06:09:22.688585Z",
     "start_time": "2022-05-06T06:09:22.557433Z"
    }
   },
   "outputs": [
    {
     "name": "stdout",
     "output_type": "stream",
     "text": [
      "<class 'pandas.core.frame.DataFrame'>\n",
      "RangeIndex: 440 entries, 0 to 439\n",
      "Data columns (total 8 columns):\n",
      " #   Column            Non-Null Count  Dtype\n",
      "---  ------            --------------  -----\n",
      " 0   Channel           440 non-null    int64\n",
      " 1   Region            440 non-null    int64\n",
      " 2   Fresh             440 non-null    int64\n",
      " 3   Milk              440 non-null    int64\n",
      " 4   Grocery           440 non-null    int64\n",
      " 5   Frozen            440 non-null    int64\n",
      " 6   Detergents_Paper  440 non-null    int64\n",
      " 7   Delicassen        440 non-null    int64\n",
      "dtypes: int64(8)\n",
      "memory usage: 27.6 KB\n"
     ]
    }
   ],
   "source": [
    "df.info()"
   ]
  },
  {
   "cell_type": "code",
   "execution_count": 5,
   "id": "c2f6f192",
   "metadata": {
    "ExecuteTime": {
     "end_time": "2022-05-06T06:09:22.750547Z",
     "start_time": "2022-05-06T06:09:22.691582Z"
    }
   },
   "outputs": [
    {
     "name": "stdout",
     "output_type": "stream",
     "text": [
      "<class 'pandas.core.frame.DataFrame'>\n",
      "RangeIndex: 440 entries, 0 to 439\n",
      "Data columns (total 8 columns):\n",
      " #   Column            Non-Null Count  Dtype   \n",
      "---  ------            --------------  -----   \n",
      " 0   Channel           440 non-null    category\n",
      " 1   Region            440 non-null    category\n",
      " 2   Fresh             440 non-null    int64   \n",
      " 3   Milk              440 non-null    int64   \n",
      " 4   Grocery           440 non-null    int64   \n",
      " 5   Frozen            440 non-null    int64   \n",
      " 6   Detergents_Paper  440 non-null    int64   \n",
      " 7   Delicassen        440 non-null    int64   \n",
      "dtypes: category(2), int64(6)\n",
      "memory usage: 21.9 KB\n"
     ]
    }
   ],
   "source": [
    "df['Channel'] = df['Channel'].astype('category')\n",
    "df['Region'] = df['Region'].astype('category')\n",
    "df.info()"
   ]
  },
  {
   "cell_type": "code",
   "execution_count": 6,
   "id": "f6a27ae5",
   "metadata": {
    "ExecuteTime": {
     "end_time": "2022-05-06T06:09:22.813507Z",
     "start_time": "2022-05-06T06:09:22.754546Z"
    }
   },
   "outputs": [
    {
     "data": {
      "text/html": [
       "<div>\n",
       "<style scoped>\n",
       "    .dataframe tbody tr th:only-of-type {\n",
       "        vertical-align: middle;\n",
       "    }\n",
       "\n",
       "    .dataframe tbody tr th {\n",
       "        vertical-align: top;\n",
       "    }\n",
       "\n",
       "    .dataframe thead th {\n",
       "        text-align: right;\n",
       "    }\n",
       "</style>\n",
       "<table border=\"1\" class=\"dataframe\">\n",
       "  <thead>\n",
       "    <tr style=\"text-align: right;\">\n",
       "      <th></th>\n",
       "      <th>Channel_1</th>\n",
       "      <th>Channel_2</th>\n",
       "      <th>Region_1</th>\n",
       "      <th>Region_2</th>\n",
       "      <th>Region_3</th>\n",
       "    </tr>\n",
       "  </thead>\n",
       "  <tbody>\n",
       "    <tr>\n",
       "      <th>0</th>\n",
       "      <td>0</td>\n",
       "      <td>1</td>\n",
       "      <td>0</td>\n",
       "      <td>0</td>\n",
       "      <td>1</td>\n",
       "    </tr>\n",
       "    <tr>\n",
       "      <th>1</th>\n",
       "      <td>0</td>\n",
       "      <td>1</td>\n",
       "      <td>0</td>\n",
       "      <td>0</td>\n",
       "      <td>1</td>\n",
       "    </tr>\n",
       "    <tr>\n",
       "      <th>2</th>\n",
       "      <td>0</td>\n",
       "      <td>1</td>\n",
       "      <td>0</td>\n",
       "      <td>0</td>\n",
       "      <td>1</td>\n",
       "    </tr>\n",
       "    <tr>\n",
       "      <th>3</th>\n",
       "      <td>1</td>\n",
       "      <td>0</td>\n",
       "      <td>0</td>\n",
       "      <td>0</td>\n",
       "      <td>1</td>\n",
       "    </tr>\n",
       "    <tr>\n",
       "      <th>4</th>\n",
       "      <td>0</td>\n",
       "      <td>1</td>\n",
       "      <td>0</td>\n",
       "      <td>0</td>\n",
       "      <td>1</td>\n",
       "    </tr>\n",
       "  </tbody>\n",
       "</table>\n",
       "</div>"
      ],
      "text/plain": [
       "   Channel_1  Channel_2  Region_1  Region_2  Region_3\n",
       "0          0          1         0         0         1\n",
       "1          0          1         0         0         1\n",
       "2          0          1         0         0         1\n",
       "3          1          0         0         0         1\n",
       "4          0          1         0         0         1"
      ]
     },
     "execution_count": 6,
     "metadata": {},
     "output_type": "execute_result"
    }
   ],
   "source": [
    "x = df\n",
    "num_cols = [\"Fresh\",\"Milk\",\"Grocery\",\"Frozen\",\"Detergents_Paper\",\"Delicassen\"]\n",
    "\n",
    "cat_cols = [\"Channel\",\"Region\"]\n",
    "dummies = pd.get_dummies(x[cat_cols])\n",
    "dummies.head()"
   ]
  },
  {
   "cell_type": "code",
   "execution_count": 7,
   "id": "7bd6cf1b",
   "metadata": {
    "ExecuteTime": {
     "end_time": "2022-05-06T06:09:22.844489Z",
     "start_time": "2022-05-06T06:09:22.818504Z"
    }
   },
   "outputs": [],
   "source": [
    "X1 = x[num_cols]\n",
    "X2 = pd.concat([dummies,X1], axis=1)\n",
    "X = X2"
   ]
  },
  {
   "cell_type": "code",
   "execution_count": 8,
   "id": "480c6d0f",
   "metadata": {
    "ExecuteTime": {
     "end_time": "2022-05-06T06:09:22.860479Z",
     "start_time": "2022-05-06T06:09:22.850487Z"
    }
   },
   "outputs": [],
   "source": [
    "y = df['Frozen']"
   ]
  },
  {
   "cell_type": "code",
   "execution_count": 9,
   "id": "e8713f6d",
   "metadata": {
    "ExecuteTime": {
     "end_time": "2022-05-06T06:09:26.397499Z",
     "start_time": "2022-05-06T06:09:22.869474Z"
    }
   },
   "outputs": [],
   "source": [
    "from sklearn.model_selection import train_test_split\n",
    "X_train, X_test, y_train, y_test = train_test_split(X, y, test_size = 0.25, random_state=0)"
   ]
  },
  {
   "cell_type": "code",
   "execution_count": 10,
   "id": "f1239ddd",
   "metadata": {
    "ExecuteTime": {
     "end_time": "2022-05-06T06:09:26.428023Z",
     "start_time": "2022-05-06T06:09:26.408787Z"
    }
   },
   "outputs": [
    {
     "data": {
      "text/plain": [
       "(330, 11)"
      ]
     },
     "execution_count": 10,
     "metadata": {},
     "output_type": "execute_result"
    }
   ],
   "source": [
    "X_train.shape"
   ]
  },
  {
   "cell_type": "code",
   "execution_count": 11,
   "id": "1a889414",
   "metadata": {
    "ExecuteTime": {
     "end_time": "2022-05-06T06:09:26.477972Z",
     "start_time": "2022-05-06T06:09:26.442994Z"
    }
   },
   "outputs": [
    {
     "data": {
      "text/plain": [
       "(110, 11)"
      ]
     },
     "execution_count": 11,
     "metadata": {},
     "output_type": "execute_result"
    }
   ],
   "source": [
    "X_test.shape"
   ]
  },
  {
   "cell_type": "code",
   "execution_count": 12,
   "id": "f8a6fe5d",
   "metadata": {
    "ExecuteTime": {
     "end_time": "2022-05-06T06:09:26.507952Z",
     "start_time": "2022-05-06T06:09:26.491964Z"
    }
   },
   "outputs": [
    {
     "data": {
      "text/plain": [
       "(330,)"
      ]
     },
     "execution_count": 12,
     "metadata": {},
     "output_type": "execute_result"
    }
   ],
   "source": [
    "y_train.shape"
   ]
  },
  {
   "cell_type": "code",
   "execution_count": 13,
   "id": "cb4febcf",
   "metadata": {
    "ExecuteTime": {
     "end_time": "2022-05-06T06:09:26.560923Z",
     "start_time": "2022-05-06T06:09:26.515949Z"
    }
   },
   "outputs": [
    {
     "data": {
      "text/plain": [
       "(110,)"
      ]
     },
     "execution_count": 13,
     "metadata": {},
     "output_type": "execute_result"
    }
   ],
   "source": [
    "y_test.shape"
   ]
  },
  {
   "cell_type": "code",
   "execution_count": 14,
   "id": "1c1abc25",
   "metadata": {
    "ExecuteTime": {
     "end_time": "2022-05-06T06:09:26.587094Z",
     "start_time": "2022-05-06T06:09:26.569237Z"
    }
   },
   "outputs": [],
   "source": [
    "X_test0 = X_test\n",
    "y_test0 = y_test"
   ]
  },
  {
   "cell_type": "code",
   "execution_count": 15,
   "id": "da337369",
   "metadata": {
    "ExecuteTime": {
     "end_time": "2022-05-06T06:09:27.040185Z",
     "start_time": "2022-05-06T06:09:26.592030Z"
    }
   },
   "outputs": [],
   "source": [
    "from sklearn.decomposition import PCA\n",
    "pca = PCA(n_components= None)"
   ]
  },
  {
   "cell_type": "code",
   "execution_count": 16,
   "id": "e9cafeca",
   "metadata": {
    "ExecuteTime": {
     "end_time": "2022-05-06T06:09:27.121844Z",
     "start_time": "2022-05-06T06:09:27.048521Z"
    }
   },
   "outputs": [],
   "source": [
    "X_train1 = pca.fit_transform(X_train)\n",
    "X_test1 = pca.transform(X_test)"
   ]
  },
  {
   "cell_type": "code",
   "execution_count": 17,
   "id": "7e07218c",
   "metadata": {
    "ExecuteTime": {
     "end_time": "2022-05-06T06:09:27.168041Z",
     "start_time": "2022-05-06T06:09:27.141710Z"
    }
   },
   "outputs": [],
   "source": [
    "explained_variance = pca.explained_variance_ratio_"
   ]
  },
  {
   "cell_type": "code",
   "execution_count": 18,
   "id": "0af5aaac",
   "metadata": {
    "ExecuteTime": {
     "end_time": "2022-05-06T06:09:27.199675Z",
     "start_time": "2022-05-06T06:09:27.178009Z"
    }
   },
   "outputs": [
    {
     "name": "stdout",
     "output_type": "stream",
     "text": [
      "Variance explained by each principal component\n"
     ]
    },
    {
     "data": {
      "text/plain": [
       "[0.465957848790681,\n",
       " 0.4047304413659375,\n",
       " 0.06915995278940289,\n",
       " 0.03775645653102067,\n",
       " 0.0160319192130899,\n",
       " 0.00636337948750899,\n",
       " 8.365303815687851e-10,\n",
       " 6.566091152588368e-10,\n",
       " 3.2921975027298335e-10,\n",
       " 2.5915946675199255e-34,\n",
       " 3.171528426384797e-36]"
      ]
     },
     "execution_count": 18,
     "metadata": {},
     "output_type": "execute_result"
    }
   ],
   "source": [
    "print(\"Variance explained by each principal component\")\n",
    "list(explained_variance)"
   ]
  },
  {
   "cell_type": "code",
   "execution_count": 19,
   "id": "e0501e05",
   "metadata": {
    "ExecuteTime": {
     "end_time": "2022-05-06T06:09:27.261553Z",
     "start_time": "2022-05-06T06:09:27.209669Z"
    }
   },
   "outputs": [
    {
     "name": "stdout",
     "output_type": "stream",
     "text": [
      "Variation explained by each principal component\n"
     ]
    },
    {
     "data": {
      "text/plain": [
       "[0.465957848790681, 0.4047304413659375]"
      ]
     },
     "execution_count": 19,
     "metadata": {},
     "output_type": "execute_result"
    }
   ],
   "source": [
    "i = 2\n",
    "from sklearn.decomposition import PCA\n",
    "pca = PCA(n_components = i)\n",
    "X_train = pca.fit_transform(X_train)\n",
    "X_test = pca.transform(X_test)\n",
    "explained_variance = pca.explained_variance_ratio_\n",
    "print(\"Variation explained by each principal component\")\n",
    "list(explained_variance)"
   ]
  },
  {
   "cell_type": "code",
   "execution_count": 20,
   "id": "ec49b1e5",
   "metadata": {
    "ExecuteTime": {
     "end_time": "2022-05-06T06:09:31.342829Z",
     "start_time": "2022-05-06T06:09:27.267869Z"
    }
   },
   "outputs": [
    {
     "name": "stderr",
     "output_type": "stream",
     "text": [
      "C:\\Users\\hp\\anaconda3\\lib\\site-packages\\sklearn\\cluster\\_kmeans.py:881: UserWarning: KMeans is known to have a memory leak on Windows with MKL, when there are less chunks than available threads. You can avoid it by setting the environment variable OMP_NUM_THREADS=1.\n",
      "  warnings.warn(\n"
     ]
    },
    {
     "data": {
      "image/png": "[encoded data removed]",
      "text/plain": [
       "<Figure size 432x288 with 1 Axes>"
      ]
     },
     "metadata": {},
     "output_type": "display_data"
    }
   ],
   "source": [
    "from sklearn.cluster import KMeans\n",
    "wcss = []\n",
    "for i in range(1,11):\n",
    "    kmeans = KMeans(n_clusters = i, init = 'k-means++', random_state=42)\n",
    "    kmeans.fit(X_test)\n",
    "    wcss.append(kmeans.inertia_)\n",
    "plt.plot(range(1,11), wcss)\n",
    "plt.title(\"The Elbow Method\")\n",
    "plt.xlabel('Number of clusters')\n",
    "plt.ylabel('WCSS')\n",
    "plt.show()"
   ]
  },
  {
   "cell_type": "code",
   "execution_count": 21,
   "id": "66902228",
   "metadata": {
    "ExecuteTime": {
     "end_time": "2022-05-06T06:09:31.843371Z",
     "start_time": "2022-05-06T06:09:31.348555Z"
    }
   },
   "outputs": [
    {
     "data": {
      "image/png": "[encoded data removed]",
      "text/plain": [
       "<Figure size 432x288 with 1 Axes>"
      ]
     },
     "metadata": {},
     "output_type": "display_data"
    }
   ],
   "source": [
    "X3 = X_test\n",
    "kmeans = KMeans(n_clusters =3, init='k-means++', random_state=42)\n",
    "y_means = kmeans.fit_predict(X3)\n",
    "plt.plot(y_means, 'g^')\n",
    "plt.show()"
   ]
  },
  {
   "cell_type": "code",
   "execution_count": 22,
   "id": "13f7d11b",
   "metadata": {
    "ExecuteTime": {
     "end_time": "2022-05-06T06:09:32.702678Z",
     "start_time": "2022-05-06T06:09:31.850368Z"
    }
   },
   "outputs": [
    {
     "data": {
      "image/png": "[encoded data removed]",
      "text/plain": [
       "<Figure size 432x288 with 1 Axes>"
      ]
     },
     "metadata": {},
     "output_type": "display_data"
    }
   ],
   "source": [
    "plt.scatter(X3[y_means == 0, 0], X3[y_means == 0, 1], s=100, c='red', label ='Segment 1')\n",
    "plt.scatter(X3[y_means == 1, 0], X3[y_means == 1, 1], s=100, c='blue', label ='Segment 2')\n",
    "plt.scatter(X3[y_means == 2, 0], X3[y_means == 2, 1], s=100, c='green', label ='Segment 3')\n",
    "plt.scatter(kmeans.cluster_centers_[:, 0], kmeans.cluster_centers_[:, 1], s=200, c='yellow', label='Centroid')\n",
    "\n",
    "plt.title('Customer segments')\n",
    "plt.legend()\n",
    "plt.show()"
   ]
  },
  {
   "cell_type": "code",
   "execution_count": 23,
   "id": "dba9dd9e",
   "metadata": {
    "ExecuteTime": {
     "end_time": "2022-05-06T06:09:32.860577Z",
     "start_time": "2022-05-06T06:09:32.709671Z"
    }
   },
   "outputs": [
    {
     "data": {
      "text/html": [
       "<div>\n",
       "<style scoped>\n",
       "    .dataframe tbody tr th:only-of-type {\n",
       "        vertical-align: middle;\n",
       "    }\n",
       "\n",
       "    .dataframe tbody tr th {\n",
       "        vertical-align: top;\n",
       "    }\n",
       "\n",
       "    .dataframe thead th {\n",
       "        text-align: right;\n",
       "    }\n",
       "</style>\n",
       "<table border=\"1\" class=\"dataframe\">\n",
       "  <thead>\n",
       "    <tr style=\"text-align: right;\">\n",
       "      <th></th>\n",
       "      <th>Customer_segment_class</th>\n",
       "      <th>Channel_1</th>\n",
       "      <th>Channel_2</th>\n",
       "      <th>Region_1</th>\n",
       "      <th>Region_2</th>\n",
       "      <th>Region_3</th>\n",
       "      <th>Fresh</th>\n",
       "      <th>Milk</th>\n",
       "      <th>Grocery</th>\n",
       "      <th>Frozen</th>\n",
       "      <th>Detergents_Paper</th>\n",
       "      <th>Delicassen</th>\n",
       "    </tr>\n",
       "  </thead>\n",
       "  <tbody>\n",
       "    <tr>\n",
       "      <th>0</th>\n",
       "      <td>2</td>\n",
       "      <td>1</td>\n",
       "      <td>0</td>\n",
       "      <td>1</td>\n",
       "      <td>0</td>\n",
       "      <td>0</td>\n",
       "      <td>1537</td>\n",
       "      <td>3748</td>\n",
       "      <td>5838</td>\n",
       "      <td>1859</td>\n",
       "      <td>3381</td>\n",
       "      <td>806</td>\n",
       "    </tr>\n",
       "    <tr>\n",
       "      <th>1</th>\n",
       "      <td>0</td>\n",
       "      <td>0</td>\n",
       "      <td>1</td>\n",
       "      <td>0</td>\n",
       "      <td>0</td>\n",
       "      <td>1</td>\n",
       "      <td>5981</td>\n",
       "      <td>14641</td>\n",
       "      <td>20521</td>\n",
       "      <td>2005</td>\n",
       "      <td>12218</td>\n",
       "      <td>445</td>\n",
       "    </tr>\n",
       "    <tr>\n",
       "      <th>2</th>\n",
       "      <td>2</td>\n",
       "      <td>1</td>\n",
       "      <td>0</td>\n",
       "      <td>1</td>\n",
       "      <td>0</td>\n",
       "      <td>0</td>\n",
       "      <td>8040</td>\n",
       "      <td>3795</td>\n",
       "      <td>2070</td>\n",
       "      <td>6340</td>\n",
       "      <td>918</td>\n",
       "      <td>291</td>\n",
       "    </tr>\n",
       "    <tr>\n",
       "      <th>3</th>\n",
       "      <td>0</td>\n",
       "      <td>0</td>\n",
       "      <td>1</td>\n",
       "      <td>0</td>\n",
       "      <td>1</td>\n",
       "      <td>0</td>\n",
       "      <td>9759</td>\n",
       "      <td>25071</td>\n",
       "      <td>17645</td>\n",
       "      <td>1128</td>\n",
       "      <td>12408</td>\n",
       "      <td>1625</td>\n",
       "    </tr>\n",
       "    <tr>\n",
       "      <th>4</th>\n",
       "      <td>1</td>\n",
       "      <td>1</td>\n",
       "      <td>0</td>\n",
       "      <td>0</td>\n",
       "      <td>0</td>\n",
       "      <td>1</td>\n",
       "      <td>27329</td>\n",
       "      <td>1449</td>\n",
       "      <td>1947</td>\n",
       "      <td>2436</td>\n",
       "      <td>204</td>\n",
       "      <td>1333</td>\n",
       "    </tr>\n",
       "  </tbody>\n",
       "</table>\n",
       "</div>"
      ],
      "text/plain": [
       "   Customer_segment_class  Channel_1  Channel_2  Region_1  Region_2  Region_3  \\\n",
       "0                       2          1          0         1         0         0   \n",
       "1                       0          0          1         0         0         1   \n",
       "2                       2          1          0         1         0         0   \n",
       "3                       0          0          1         0         1         0   \n",
       "4                       1          1          0         0         0         1   \n",
       "\n",
       "   Fresh   Milk  Grocery  Frozen  Detergents_Paper  Delicassen  \n",
       "0   1537   3748     5838    1859              3381         806  \n",
       "1   5981  14641    20521    2005             12218         445  \n",
       "2   8040   3795     2070    6340               918         291  \n",
       "3   9759  25071    17645    1128             12408        1625  \n",
       "4  27329   1449     1947    2436               204        1333  "
      ]
     },
     "execution_count": 23,
     "metadata": {},
     "output_type": "execute_result"
    }
   ],
   "source": [
    "Customer_segment_class = pd.DataFrame(y_means)\n",
    "Customer_segment_class.columns = ['Customer_segment_class']\n",
    "X_test2 = X_test0.reset_index(drop=True)\n",
    "\n",
    "Customer_segments = pd.concat([Customer_segment_class, X_test2], axis=1)\n",
    "Customer_segments.head(5)"
   ]
  },
  {
   "cell_type": "code",
   "execution_count": 24,
   "id": "d99117f5",
   "metadata": {
    "ExecuteTime": {
     "end_time": "2022-05-06T06:09:32.924537Z",
     "start_time": "2022-05-06T06:09:32.882563Z"
    }
   },
   "outputs": [],
   "source": [
    "mask = Customer_segments[\"Customer_segment_class\"] == 0\n",
    "Customer_segments_1 = Customer_segments[mask]\n",
    "\n",
    "mask = Customer_segments[\"Customer_segment_class\"] == 1\n",
    "Customer_segments_2 = Customer_segments[mask]\n",
    "\n",
    "mask = Customer_segments[\"Customer_segment_class\"] == 2\n",
    "Customer_segments_3 = Customer_segments[mask]"
   ]
  },
  {
   "cell_type": "code",
   "execution_count": 25,
   "id": "f498e1c4",
   "metadata": {
    "ExecuteTime": {
     "end_time": "2022-05-06T06:09:33.002681Z",
     "start_time": "2022-05-06T06:09:32.941530Z"
    }
   },
   "outputs": [
    {
     "name": "stdout",
     "output_type": "stream",
     "text": [
      "Channel_1  Channel_2\n",
      "0          1            18\n",
      "dtype: int64\n",
      "Channel_1  Channel_2\n",
      "0          1             3\n",
      "1          0            18\n",
      "dtype: int64\n",
      "Channel_1  Channel_2\n",
      "0          1            19\n",
      "1          0            52\n",
      "dtype: int64\n"
     ]
    }
   ],
   "source": [
    "print(Customer_segments_1.groupby([\"Channel_1\", \"Channel_2\"]).size())\n",
    "print(Customer_segments_2.groupby([\"Channel_1\", \"Channel_2\"]).size())\n",
    "print(Customer_segments_3.groupby([\"Channel_1\", \"Channel_2\"]).size())"
   ]
  },
  {
   "cell_type": "code",
   "execution_count": 26,
   "id": "14eeadb1",
   "metadata": {
    "ExecuteTime": {
     "end_time": "2022-05-06T06:09:36.863694Z",
     "start_time": "2022-05-06T06:09:33.009673Z"
    }
   },
   "outputs": [
    {
     "data": {
      "image/png": "[encoded data removed]",
      "text/plain": [
       "<Figure size 432x288 with 9 Axes>"
      ]
     },
     "metadata": {},
     "output_type": "display_data"
    }
   ],
   "source": [
    "######################\n",
    "plt.subplot(331)\n",
    "plt.title(\"Fresh_1\")\n",
    "Output=None\n",
    "Customer_segments_1['Fresh'].plot(kind='hist', bins=10)\n",
    "\n",
    "plt.subplot(332)\n",
    "plt.title(\"Fresh_2\")\n",
    "Output=None\n",
    "Customer_segments_2['Fresh'].plot(kind='hist', bins=10)\n",
    "\n",
    "plt.subplot(333)\n",
    "plt.title(\"Fresh_3\")\n",
    "Output=None\n",
    "Customer_segments_3['Fresh'].plot(kind='hist', bins=10)\n",
    "\n",
    "plt.tight_layout()\n",
    "\n",
    "\n",
    "######################\n",
    "plt.subplot(334)\n",
    "plt.title(\"Milk_1\")\n",
    "Output=None\n",
    "Customer_segments_1['Milk'].plot(kind='hist', bins=10)\n",
    "\n",
    "plt.subplot(335)\n",
    "plt.title(\"Milk_2\")\n",
    "Output=None\n",
    "Customer_segments_2['Milk'].plot(kind='hist', bins=10)\n",
    "\n",
    "plt.subplot(336)\n",
    "plt.title(\"Milk_3\")\n",
    "Output=None\n",
    "Customer_segments_3['Milk'].plot(kind='hist', bins=10)\n",
    "\n",
    "plt.tight_layout()\n",
    "\n",
    "\n",
    "#####################\n",
    "plt.subplot(337)\n",
    "plt.title(\"Grocery_1\")\n",
    "Output=None\n",
    "Customer_segments_1['Grocery'].plot(kind='hist', bins=10)\n",
    "\n",
    "plt.subplot(338)\n",
    "plt.title(\"Grocery_2\")\n",
    "Output=None\n",
    "Customer_segments_2['Grocery'].plot(kind='hist', bins=10)\n",
    "\n",
    "plt.subplot(339)\n",
    "plt.title(\"Grocery_3\")\n",
    "Output=None\n",
    "Customer_segments_3['Grocery'].plot(kind='hist', bins=10)\n",
    "\n",
    "plt.tight_layout()"
   ]
  },
  {
   "cell_type": "code",
   "execution_count": null,
   "id": "980fab5d",
   "metadata": {},
   "outputs": [],
   "source": []
  }
 ],
 "metadata": {
  "kernelspec": {
   "display_name": "Python 3 (ipykernel)",
   "language": "python",
   "name": "python3"
  },
  "language_info": {
   "codemirror_mode": {
    "name": "ipython",
    "version": 3
   },
   "file_extension": ".py",
   "mimetype": "text/x-python",
   "name": "python",
   "nbconvert_exporter": "python",
   "pygments_lexer": "ipython3",
   "version": "3.8.11"
  },
  "varInspector": {
   "cols": {
    "lenName": 16,
    "lenType": 16,
    "lenVar": 40
   },
   "kernels_config": {
    "python": {
     "delete_cmd_postfix": "",
     "delete_cmd_prefix": "del ",
     "library": "var_list.py",
     "varRefreshCmd": "print(var_dic_list())"
    },
    "r": {
     "delete_cmd_postfix": ") ",
     "delete_cmd_prefix": "rm(",
     "library": "var_list.r",
     "varRefreshCmd": "cat(var_dic_list()) "
    }
   },
   "types_to_exclude": [
    "module",
    "function",
    "builtin_function_or_method",
    "instance",
    "_Feature"
   ],
   "window_display": false
  }
 },
 "nbformat": 4,
 "nbformat_minor": 5
}
